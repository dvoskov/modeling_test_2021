{
 "cells": [
  {
   "cell_type": "markdown",
   "metadata": {},
   "source": [
    "# Entry exam on modeling, AES1305 course, 31-08-2021 10:45 - 12:30\n",
    "\n",
    "## Student Name:\n",
    "## Student Number:"
   ]
  },
  {
   "cell_type": "markdown",
   "metadata": {},
   "source": [
    "\n",
    "## Information\n",
    "This Jupyter Notebook serves as your answer sheet for the entry exam of the AES1305 course. The exam is 1.5 hour(s) long. Every exam question is accompanied by a specific slide followed by a **Code** or **Markdown** block in which you fill in the answer to the question. If the question has sub-questions, the accompanying **Code** or **Markdown** block(s) will already be added (don't need to manually add them). \n",
    "\n",
    "**NOTE:** Whenever  you run a code block (can use ctrl + enter), any variable or function (i.e. method) declared in this code block will (after run) be usuable throughout your Jupyter Notebook (i.e. you can also use them in subsequent code blocks), i.e. it will be stored in memory. This means that you don't have to copy-pasta your code to any other cell, just run the cell which contains the declared variables and functions/methods in order to store them in memory! This will be helpful in case where the answer contains several parts, you can use the code blocks for each sub-question! We prepared some inputs for you, just replace comments '### add your code here ###' with your code.\n",
    "\n",
    "Save the Jupyter Notebook regularly (ctrl + s if on Windows), at least after every question, and rename the Jupyter Notebook to (StudentLastName_StudentFirstName_StudentID, e.g. Hoopde_Stephan_123123)\n",
    "\n",
    "When you finish please submit the Jupyter Notebook as an attachment on BrightSpace with copy sent to d.v.voskov@tudelft.nl. Please note that the Link closes at 12:30 which signals the end of the exam. \n",
    "\n",
    "Good luck and if there are any questions or problems related to the exam, please notify us immediately."
   ]
  },
  {
   "cell_type": "markdown",
   "metadata": {},
   "source": [
    "# Brief introduction to using Jupyter Notebook\n",
    "Every notebook is subdivided into sections, denoted as **cells**. The two types of cells that you will encounter during this course are:\n",
    "* Markdown cells --> These cells can interpret Markdown Language (Lightweight Markup language written in plain text) as well as HTML Language\n",
    "* Code cells --> These cells are interpreted by Jupyter using a kernel, typically set to Python 3 \n",
    "\n",
    "You can edit (enter **Edit Mode**) each and every cell by simply selecting the cell you want to edit and pressing **enter** or double clicking the (left mouse button) on the cell you wish to modify. Once you are ready simple press **ctrl + enter** to run the cell (the Markdown or Code cell will be interpreter and the result will be displayed) \n",
    "\n",
    "To better understand the User Interface (UI) of Jupyter Notebook, please go to the **Help** tab in the top menu and select **User Interface Tour**. \n",
    "\n",
    "There are two main operating modes in Jupyter Notebook:\n",
    "* **Command Mode**, indicated by the <font color = blue>Blue</font> color on the left side of the cell (have simply selected the cell)\n",
    "* **Edit Mode**, indicated by the <font color = green>Green</font> color on the left side of the cell (are actually editing currently selected cell)\n",
    "\n",
    "Here is a list of commands that you will frequently use when creating your own Jupyter Notebook:\n",
    "### Command mode\n",
    "* **A**: insert cell **a**bove\n",
    "* **B**: insert cell **b**elow\n",
    "* **X**: cut selected cells\n",
    "* **C**: copy selected cells\n",
    "* **Shift + V**: paste cells above\n",
    "* **V**: paste cells below\n",
    "* **Ctrl  + S**: Save and Checkpoint\n",
    "* **Y**: change cell to code\n",
    "* **M**: change cell to **m**arkdown\n",
    "* **Shift + Enter**: run cell, select below\n",
    "* **Ctrl + Enter**: run selected cells\n",
    "* **Enter**: enter edit mode\n",
    "\n",
    "### Edit mode\n",
    "* **Tab**: code completion or indent\n",
    "* **Ctrl + ]**: indent \n",
    "* **Ctrl + [**: dedent\n",
    "* **Ctrl + /**: comment \n",
    "* **Ctrl + z**: undo\n",
    "* **Ctrl + Home**: go to cell start\n",
    "* Same commands (as in Command mode) work if you want to run cell! "
   ]
  },
  {
   "cell_type": "markdown",
   "metadata": {},
   "source": [
    "---"
   ]
  },
  {
   "cell_type": "markdown",
   "metadata": {},
   "source": [
    "# Question 1: Differentiation"
   ]
  },
  {
   "cell_type": "markdown",
   "metadata": {},
   "source": [
    "### Differentiation:\n",
    "For the following function:\n",
    "\n",
    "$$ f(x) = x cos(x) + x^3 $$\n",
    "\n",
    "a) Find the first analytical derivatives for the above function at the point $ x = 2.5 $.\n",
    "\n",
    "b) Then compute the numerical derivative, at the point $ x = 2.5 $ with $ \\Delta x = 0.5 $, using the:\n",
    "* Forward differentiation\n",
    "* Central differentiation\n",
    "\n",
    "Recall for the numerical differentiation:\n",
    "\n",
    "$$ Q_{forward}(\\Delta x) = \\frac{f(x + \\Delta x) - f(x)}{\\Delta x} $$\n",
    "\n",
    "$$ Q_{central}(\\Delta x) = \\frac{f(x + \\Delta x) - f(x - \\Delta x)}{2 \\Delta x} $$\n",
    "\n",
    "c) Then compute the truncation error for the Forward and Backward differentiation at this point and compare the results of both methods for the stepsize $ \\Delta x = 0.5 $, $ \\Delta x = 0.05 $, and $ \\Delta x = 0.005 $. \n",
    "\n",
    "Recall for the truncation error ($ R_{method}$) that:\n",
    "\n",
    "$$ R_{forward} = \\frac{df}{dx} - Q_{forward}(\\Delta x), \\quad R_{central} = \\frac{df}{dx} - Q_{central}(\\Delta x)$$\n",
    "\n",
    "d) Explain why the truncation error is different for these two methods. "
   ]
  },
  {
   "cell_type": "code",
   "execution_count": null,
   "metadata": {},
   "outputs": [],
   "source": [
    "# ANSWER Q1.a:\n",
    "from math import cos, sin\n",
    "import numpy as np\n",
    "\n",
    "def func_x(x):\n",
    "### add your code here ###\n",
    "    \n",
    "# Derivative:\n",
    "def dfdx(x):\n",
    "### add your code here ###\n",
    "\n",
    "x_val = 2.5\n",
    "print('Function at x = {:3.2f}:\\t\\t'.format(x_val), func_x(x_val))\n",
    "print('Derivative at x = 2.5:\\t'.format(x_val), dfdx(x_val))"
   ]
  },
  {
   "cell_type": "code",
   "execution_count": null,
   "metadata": {},
   "outputs": [],
   "source": [
    "# ANSWER Q1.b:\n",
    "delta_x = 0.5\n",
    "def Q_forward(delta_x):\n",
    "### add your code here ###\n",
    "\n",
    "def Q_central(delta_x):\n",
    "### add your code here ###\n",
    "\n",
    "print('Analytical derivative at x = 2.5:\\t\\t'.format(x_val), dfdx(x_val))\n",
    "print('Numerical (forward) derivative at x = 2.5:\\t'.format(x_val), Q_forward(delta_x))\n",
    "print('Numerical (central) derivative at x = 2.5:\\t'.format(x_val), Q_central(delta_x))"
   ]
  },
  {
   "cell_type": "code",
   "execution_count": null,
   "metadata": {},
   "outputs": [],
   "source": [
    "# ANSWER Q1.c:\n",
    "delta_x = 0.5\n",
    "### add your code here ###\n",
    "\n",
    "delta_x = 0.05\n",
    "### add your code here ###\n",
    "\n",
    "delta_x = 0.005\n",
    "### add your code here ###\n"
   ]
  },
  {
   "cell_type": "markdown",
   "metadata": {},
   "source": [
    "ANSWER Q1.d: write here"
   ]
  },
  {
   "cell_type": "markdown",
   "metadata": {},
   "source": [
    "---"
   ]
  },
  {
   "cell_type": "markdown",
   "metadata": {},
   "source": [
    "# Question 2: Statistics and numerial integration"
   ]
  },
  {
   "cell_type": "markdown",
   "metadata": {},
   "source": [
    "### Import data and calculate stochastic moments\n",
    "For this question we will import data from a file, compute the histogram, analyse the result, and find the appropiate probability density function(s) for the data. Then, we will use this probability density function to calculate certain ranges of probability. The data is located in the same folder as which this Jupyter Notebook files is located in, and is referenced by: porosity_data.txt . \n",
    "\n",
    "Steps and questions:\n",
    "\n",
    "a) Import data.\n",
    "\n",
    "b) Plot Histrogram (choose an appropiate number of bins!).\n",
    "\n",
    "c) Calculate mean, standard deviation, and variance of dataset.\n",
    "\n",
    "d) Calculate the analytical continuous PDF, using the normal distribution.\n",
    "\n",
    "Recall: the normal distribution for a continuous random variable is defined as follows:\n",
    "\n",
    "$$ f_X(X|\\mu, \\sigma^2) = \\frac{1}{\\sqrt{2 \\pi \\sigma^2}}e^{-\\frac{(x - \\mu)^2}{2 \\sigma^2}} $$\n",
    "\n",
    "\n",
    "e) Using the analytical continuous PDF, compute the following probabilities: \n",
    "\n",
    "i) $ P(|X - \\mu| \\leq \\sigma ) $\n",
    "\n",
    "ii) $ P(|X - \\mu| \\leq 2.58 \\sigma ) $\n",
    "\n",
    "Recall that the probability is given by (for a continuous random variable): \n",
    "\n",
    "$$ P(a \\leq X \\leq b) = \\int_a^b{f_X(x)dx} $$\n",
    "Also recall that the trapezoidal rule gives us: \n",
    "\n",
    "$$ \\int_a^b{f_X(x)dx} \\approx \\sum_{i=1}^n{\\frac{f_X(x_{i-1}) + f_X(x_i)}{2} \\Delta x} $$"
   ]
  },
  {
   "cell_type": "code",
   "execution_count": null,
   "metadata": {},
   "outputs": [],
   "source": [
    "# ANSWER Q2.a: Open file for reading\n",
    "import numpy as np\n",
    "import matplotlib.pyplot as plt\n",
    "from math import e, pi\n",
    "\n",
    "### add your code here ###"
   ]
  },
  {
   "cell_type": "code",
   "execution_count": null,
   "metadata": {},
   "outputs": [],
   "source": [
    "# ANSWER Q2.b: Plot with various axes scales\n",
    "plt.figure(num=None, figsize=(15, 5), dpi=80, facecolor='w', edgecolor='k')\n",
    "\n",
    "font = {'family': 'serif',\n",
    "        'color':  'darkred',\n",
    "        'weight': 'normal',\n",
    "        'size': 16,\n",
    "        }\n",
    "\n",
    "### add your code here ###"
   ]
  },
  {
   "cell_type": "code",
   "execution_count": null,
   "metadata": {},
   "outputs": [],
   "source": [
    "# ANSWER Q2.c: Calculate mean, standard deviation, and variance of dataset\n",
    "\n",
    "### add your code here ###\n",
    "\n",
    "print('mean = ', mu, ', sigma = ', sigma, ', var = ', var)"
   ]
  },
  {
   "cell_type": "code",
   "execution_count": null,
   "metadata": {},
   "outputs": [],
   "source": [
    "# ANSWER Q2.d: Calculate analytical continuous PDF\n",
    "def my_prob_dens(x):\n",
    "# your code here\n",
    "\n",
    "num_p = 1000\n",
    "x_int = np.linspace(0.07, 0.13, num_p)\n",
    "prob_func = np.zeros((num_p,))\n",
    "\n",
    "### add your code here ###\n",
    "\n",
    "font = {'family': 'serif',\n",
    "        'color':  'darkred',\n",
    "        'weight': 'normal',\n",
    "        'size': 16,\n",
    "        }\n",
    "\n",
    "plt.plot(x_int, prob_func, 'r')\n",
    "\n",
    "### add your code here ###\n"
   ]
  },
  {
   "cell_type": "code",
   "execution_count": null,
   "metadata": {},
   "outputs": [],
   "source": [
    "# ANSWER Q2.e: Calculate probabilties for certain interval\n",
    "def my_func(x):\n",
    "    \n",
    "# your code here\n",
    "\n",
    "def my_integral_func(sigma_factor):\n",
    "    num_p = 1000\n",
    "    \n",
    "    ### add your code here ###\n",
    "    \n",
    "print(\"Continuous:\")\n",
    "print('+/- {:3.2f} deviation from mean:\\t'.format(1), my_integral_func(1))\n",
    "print('+/- {:3.2f} deviation from mean:\\t'.format(2.58), my_integral_func(2.58))"
   ]
  },
  {
   "cell_type": "markdown",
   "metadata": {},
   "source": [
    "***"
   ]
  },
  {
   "cell_type": "markdown",
   "metadata": {},
   "source": [
    "# Question 3: Nonlinear Equations"
   ]
  },
  {
   "cell_type": "markdown",
   "metadata": {},
   "source": [
    "<img style=\"float: left;\" src=\"exam/Slide12.PNG\" width=\"100%\">"
   ]
  },
  {
   "cell_type": "markdown",
   "metadata": {},
   "source": [
    "## Answer Q3: "
   ]
  },
  {
   "cell_type": "code",
   "execution_count": null,
   "metadata": {},
   "outputs": [],
   "source": [
    "# Python code block for bisection method\n",
    "# Solve f(x) = sin(x) - 1/2*x = 0, with initial guess: x_0 = 3*pi/4\n",
    "from math import sin, pi\n",
    "import numpy as np\n",
    "\n",
    "\n",
    "def my_non_linear_func(x):\n",
    "    return sin(x) - 0.5*x\n",
    "    \n",
    "# Define interval on which to search solution:\n",
    "int_left = 0.5\n",
    "int_right = 3.5\n",
    "\n",
    "# Set convergence criteria and initialize loop\n",
    "conv_limit = 1e-12\n",
    "max_iter = 100\n",
    "curr_iter = 0\n",
    "\n",
    "### add your code here ###\n",
    "\n",
    "print(\"Solution to nonlinear equation is: \", xk, \", after \", curr_iter, \" iterations with Bisection Method\")"
   ]
  },
  {
   "cell_type": "code",
   "execution_count": null,
   "metadata": {},
   "outputs": [],
   "source": [
    "# Python code block for Newton Raphson method\n",
    "# Solve f(x) = sin(x) - 1/2*x = 0, with initial guess: x_0 = 3*pi/4\n",
    "from math import sin, cos, pi\n",
    "import numpy as np\n",
    "\n",
    "\n",
    "def my_non_linear_func(x):\n",
    "    return sin(x) - 0.5*x\n",
    "\n",
    "def my_non_linear_deri(x):\n",
    "    ### add your code here ###\n",
    "\n",
    "# Set convergence criteria and initialize loop\n",
    "conv_limit = 1e-12\n",
    "max_iter = 100\n",
    "curr_iter = 0\n",
    "\n",
    "### add your code here ###\n",
    "\n",
    "print(\"Solution to nonlinear equation is: \", xk, \", after \", curr_iter, \" iterations with Newtons Method\")"
   ]
  },
  {
   "cell_type": "markdown",
   "metadata": {},
   "source": [
    "### END OF EXAM!!!"
   ]
  },
  {
   "cell_type": "markdown",
   "metadata": {},
   "source": [
    "---"
   ]
  }
 ],
 "metadata": {
  "kernelspec": {
   "display_name": "Python 3",
   "language": "python",
   "name": "python3"
  },
  "language_info": {
   "codemirror_mode": {
    "name": "ipython",
    "version": 3
   },
   "file_extension": ".py",
   "mimetype": "text/x-python",
   "name": "python",
   "nbconvert_exporter": "python",
   "pygments_lexer": "ipython3",
   "version": "3.6.5"
  }
 },
 "nbformat": 4,
 "nbformat_minor": 2
}
