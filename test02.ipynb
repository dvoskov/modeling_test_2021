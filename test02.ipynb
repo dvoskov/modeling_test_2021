{
 "cells": [
  {
   "cell_type": "markdown",
   "metadata": {},
   "source": [
    "# Second test on modeling, AES1305 course, 01-10-2020 08:45 - 10:30\n",
    "\n",
    "## Student Name:\n",
    "## Student Number:"
   ]
  },
  {
   "cell_type": "markdown",
   "metadata": {},
   "source": [
    "## Information\n",
    "This Jupyter Notebook serves as your answer sheet for the entry test of the AES1305 course. The test is 1:45 hour(s) long. Every test question is accompanied by a specific slide followed by a **Code** or **Markdown** block in which you fill in the answer to the question. If the question has sub-questions, the accompanying **Code** or **Markdown** block(s) will already be added (don't need to manually add them). \n",
    "\n",
    "**NOTE:** Whenever  you run a code block (can use ctrl + enter), any variable or function (i.e. method) declared in this code block will (after run) be usuable throughout your Jupyter Notebook (i.e. you can also use them in subsequent code blocks), i.e. it will be stored in memory. This means that you don't have to copy-pasta your code to any other cell, just run the cell which contains the declared variables and functions/methods in order to store them in memory! This will be helpful in case where the answer contains several parts, you can use the code blocks for each sub-question!\n",
    "\n",
    "**NOTE: To use a subscript or superscript, use the ``<sub>`` or ``<sup>`` tag:**\n",
    "* To write sub<sub>script</sub> you have to write ``sub<sub>script<\\sub>``\n",
    "* To write sup<sup>script</sup> you have to write ``sup<sup>script<\\sup>``\n",
    "\n",
    "**Remember to always close with a ``<\\sub>`` or ``<\\sup>``.**\n",
    "\n",
    "**NOTE: Want to use LaTeX instead in Markdown Cells, use the ``$ LaTeX code here $`` to denote LaTeX blocks:**\n",
    "* $ f(x) = x^2 $ is written as ``$ f(x) = x^2 $``\n",
    "* $ y_{n+1} = y_n + \\Delta t f(t_n, y_n) $ is written as ``$ y_{n+1} = y_n + \\Delta t f(t_n, y_n) $``\n",
    "\n",
    "Save the Jupyter Notebook regularly (ctrl + s if on Windows), at least after every question, and rename the Jupyter Notebook to (StudentLastName_StudentFirstName_StudentID, e.g. Hoopde_Stephan_4389417)\n",
    "\n",
    "When you finish please submit the Jupyter Notebook as an attachment on BrightSpace with copy sent to d.v.voskov@tudelft.nl. \n",
    "\n",
    "Good luck and if there are any questions or problems related to the test, please notify us immediately."
   ]
  },
  {
   "cell_type": "markdown",
   "metadata": {},
   "source": [
    "# Brief introduction to using Jupyter Notebook\n",
    "Every notebook is subdivided into sections, denoted as **cells**. The two types of cells that you will encounter during this course are:\n",
    "* Markdown cells --> These cells can interpret Markdown Language (Lightweight Markup language written in plain text) as well as HTML Language\n",
    "* Code cells --> These cells are interpreted by Jupyter using a kernel, typically set to Python 3 \n",
    "\n",
    "You can edit (enter **Edit Mode**) each and every cell by simply selecting the cell you want to edit and pressing **enter** or double clicking the (left mouse button) on the cell you wish to modify. Once you are ready simple press **ctrl + enter** to run the cell (the Markdown or Code cell will be interpreter and the result will be displayed) \n",
    "\n",
    "To better understand the User Interface (UI) of Jupyter Notebook, please go to the **Help** tab in the top menu and select **User Interface Tour**. \n",
    "\n",
    "There are two main operating modes in Jupyter Notebook:\n",
    "* **Command Mode**, indicated by the <font color = blue>Blue</font> color on the left side of the cell (have simply selected the cell)\n",
    "* **Edit Mode**, indicated by the <font color = green>Green</font> color on the left side of the cell (are actually editing currently selected cell)\n",
    "\n",
    "Here is a list of commands that you will frequently use when creating your own Jupyter Notebook:\n",
    "### Command mode\n",
    "* **A**: insert cell **a**bove\n",
    "* **B**: insert cell **b**elow\n",
    "* **X**: cut selected cells\n",
    "* **C**: copy selected cells\n",
    "* **Shift + V**: paste cells above\n",
    "* **V**: paste cells below\n",
    "* **Ctrl  + S**: Save and Checkpoint\n",
    "* **Y**: change cell to code\n",
    "* **M**: change cell to **m**arkdown\n",
    "* **Shift + Enter**: run cell, select below\n",
    "* **Ctrl + Enter**: run selected cells\n",
    "* **Enter**: enter edit mode\n",
    "\n",
    "### Edit mode\n",
    "* **Tab**: code completion or indent\n",
    "* **Ctrl + ]**: indent \n",
    "* **Ctrl + [**: dedent\n",
    "* **Ctrl + /**: comment \n",
    "* **Ctrl + z**: undo\n",
    "* **Ctrl + Home**: go to cell start\n",
    "* Same commands (as in Command mode) work if you want to run cell! "
   ]
  },
  {
   "cell_type": "markdown",
   "metadata": {},
   "source": [
    "<h1 style='color: red'>!!!FINAL MESSAGE BEFORE TEST!!!</h1>\n",
    "<h2>Please feel free to modify the code-blocks in any way you see fit. You don't need to follow necessary the provided structure of the answer, as long as you answer the question. Good luck!</h2>"
   ]
  },
  {
   "cell_type": "markdown",
   "metadata": {},
   "source": [
    "---"
   ]
  },
  {
   "cell_type": "markdown",
   "metadata": {},
   "source": [
    "## Question 1: Differentiation"
   ]
  },
  {
   "cell_type": "markdown",
   "metadata": {},
   "source": [
    "For the following function:\n",
    "\n",
    "$$ f(x) = x^3 cos(x) + 35 $$\n",
    "\n",
    "a) Find the first and second analytical derivatives for the above function at the point $ x = 4 $.\n",
    "\n",
    "b) Then compute the numerical derivative, at the point $ x = 4 $ with $ \\Delta x = 0.5 $, using the:\n",
    "* Forward differentiation\n",
    "* Central differentiation\n",
    "\n",
    "Recall for the numerical differentiation:\n",
    "\n",
    "$$ Q_{forward}(\\Delta x) = \\frac{f(x + \\Delta x) - f(x)}{\\Delta x} $$\n",
    "\n",
    "$$ Q_{central}(\\Delta x) = \\frac{f(x + \\Delta x) - f(x - \\Delta x)}{2 \\Delta x} $$\n",
    "\n",
    "c) Then compute the truncation error for the Forward and Central differentiation at this point and compare the results of both methods for the stepsize $ \\Delta x = 0.05 $, and $ \\Delta x = 0.005 $. \n",
    "\n",
    "d) Explain why the truncation error is different for these two methods. \n",
    "\n",
    "Recall for the truncation error ($ R_{method}$) that:\n",
    "\n",
    "$$ R_{forward} = \\frac{df}{dx} - Q_{forward}(\\Delta x), \\quad R_{central} = \\frac{df}{dx} - Q_{central}(\\Delta x)$$"
   ]
  },
  {
   "cell_type": "code",
   "execution_count": null,
   "metadata": {},
   "outputs": [],
   "source": [
    "# ANSWER Q1.a:\n",
    "import numpy as np\n",
    "\n",
    "\n",
    "# My function (see problem definition above)\n",
    "def func_x(x):\n",
    "### your code here ###\n",
    "\n",
    "# First derivative:\n",
    "def dfdx(x):\n",
    "### your code here ###\n",
    "\n",
    "x_val = 4\n",
    "print('Function at x = {:3.2f}:\\t\\t'.format(x_val), func_x(x_val))\n",
    "print('1st derivative at x = {:3.2f}:\\t'.format(x_val), dfdx(x_val))"
   ]
  },
  {
   "cell_type": "code",
   "execution_count": null,
   "metadata": {},
   "outputs": [],
   "source": [
    "# ANSWER Q1.b:\n",
    "x_val = 4\n",
    "delta_x = 0.5\n",
    "def Q_forward(x, dx):\n",
    "### your code here ###\n",
    "\n",
    "def Q_central(x, dx):\n",
    "### your code here ###\n",
    "\n",
    "print('Analytical derivative at x = {:3.2f}:\\t\\t'.format(x_val), dfdx(x_val))\n",
    "print('Numerical (forward) derivative at x = {:3.2f}:\\t'.format(x_val), Q_forward(x_val, delta_x))\n",
    "print('Numerical (central) derivative at x = {:3.2f}:\\t'.format(x_val), Q_central(x_val, delta_x))"
   ]
  },
  {
   "cell_type": "code",
   "execution_count": null,
   "metadata": {},
   "outputs": [],
   "source": [
    "# ANSWER Q1.c:\n",
    "x_val = 4\n",
    "delta_x = 0.5\n",
    "print('Truncation error forward (delta_x = {:3.2f}):\\t'.format(delta_x), np.abs(Q_forward(x_val, delta_x) - dfdx(x_val)))\n",
    "print('Truncation error central (delta_x = {:3.2f}):\\t'.format(delta_x), np.abs(Q_central(x_val, delta_x) - dfdx(x_val)))\n",
    "print('')\n",
    "\n",
    "delta_x = 0.05\n",
    "print('Truncation error forward (delta_x = {:3.2f}):\\t'.format(delta_x), np.abs(Q_forward(x_val, delta_x) - dfdx(x_val)))\n",
    "print('Truncation error central (delta_x = {:3.2f}):\\t'.format(delta_x), np.abs(Q_central(x_val, delta_x) - dfdx(x_val)))\n",
    "print('')\n",
    "\n",
    "delta_x = 0.005\n",
    "print('Truncation error forward (delta_x = {:3.2f}):\\t'.format(delta_x), np.abs(Q_forward(x_val, delta_x) - dfdx(x_val)))\n",
    "print('Truncation error central (delta_x = {:3.2f}):\\t'.format(delta_x), np.abs(Q_central(x_val, delta_x) - dfdx(x_val)))"
   ]
  },
  {
   "cell_type": "markdown",
   "metadata": {},
   "source": [
    "---"
   ]
  },
  {
   "cell_type": "markdown",
   "metadata": {},
   "source": [
    "## Question 2: Statistics"
   ]
  },
  {
   "cell_type": "markdown",
   "metadata": {},
   "source": [
    "### Import data and calculate stochastic moments\n",
    "For this question we will import data from a file, compute the histogram, analyse the result, and find the appropiate probability density function(s) for the data. Then, we will use this probability density function to calculate certain ranges of probability. The data is located in the same folder as which this Jupyter Notebook files is located in, and is referenced by: **porosity_data_shale_with_outliers.txt** . \n",
    "\n",
    "Steps and questions:\n",
    "\n",
    "###### a) Import data.\n",
    "\n",
    "###### b) Plot Histrogram (choose an appropiate number of bins!). NOTE: You are allowed to use the internet on how to create a plot. A typical Python module that is used for ploting is matplotlib.pyplot. Format the axis and title of the plot.\n",
    "\n",
    "###### c) Calculate mean, standard deviation, and variance of dataset.\n",
    "\n",
    "###### d) Remove the outliers present in the dataset. Outliers are defined in this question as any data point that is smaller than the mean minus three times the standard deviation or larger than the mean plus three times the standard deviation. Defined mathematically as:\n",
    "$$ || X - \\mu || \\geq 3 \\sigma $$\n",
    "###### After removing the outliers, re-calculate the mean, standard deviation, and variance.  \n",
    "\n",
    "### Calculate analytical (continuous) PDF\n",
    "The normal distribution for a continuous random variable is defined as follows:\n",
    "\n",
    "$$ f_X(X|\\mu, \\sigma^2) = \\frac{1}{\\sqrt{2 \\pi \\sigma^2}}e^{-\\frac{(x - \\mu)^2}{2 \\sigma^2}} $$\n",
    "\n",
    "###### e) Calculate and plot the analytical continuous PDF, using the above definition and the mean and standard deviation of the dataset that you found under part d) (so after removing the outliers), and compare the result with the histogram from part b). Prefferably, you will plot the analytical continuous PDF on top of the histogram that you made under question b). "
   ]
  },
  {
   "cell_type": "markdown",
   "metadata": {},
   "source": [
    "## Answer Q2: "
   ]
  },
  {
   "cell_type": "code",
   "execution_count": null,
   "metadata": {},
   "outputs": [],
   "source": [
    "# ANSWER Q2.a: Open file for reading\n",
    "import numpy as np\n",
    "import matplotlib.pyplot as plt\n",
    "from math import e, pi\n",
    "\n",
    "# your code here"
   ]
  },
  {
   "cell_type": "code",
   "execution_count": null,
   "metadata": {},
   "outputs": [],
   "source": [
    "# ANSWER Q2.b: Plot with various axes scales\n",
    "plt.figure(num=None, figsize=(15, 5), dpi=80, facecolor='w', edgecolor='k')\n",
    "\n",
    "font = {'family': 'serif',\n",
    "        'color':  'darkred',\n",
    "        'weight': 'normal',\n",
    "        'size': 16,\n",
    "        }\n",
    "\n",
    "# your code here"
   ]
  },
  {
   "cell_type": "code",
   "execution_count": null,
   "metadata": {},
   "outputs": [],
   "source": [
    "# ANSWER Q2.c: Calculate mean, standard deviation, and variance of dataset\n",
    "\n",
    "# your code here\n",
    "\n",
    "print('mean = ', mu, ', sigma = ', sigma, ', var = ', var)"
   ]
  },
  {
   "cell_type": "code",
   "execution_count": null,
   "metadata": {},
   "outputs": [],
   "source": [
    "# ANSWER Q2.d: Remove outliers from dataset and re-calculate the mean, standard deviation, and variance.\n",
    "\n",
    "# your code here\n",
    "\n",
    "print('mean = ', mu_new, ', sigma = ', sigma_new, ', var = ', var_new)"
   ]
  },
  {
   "cell_type": "code",
   "execution_count": null,
   "metadata": {},
   "outputs": [],
   "source": [
    "# ANSWER Q2.e: Calculate analytical continuous PDF with re-calculated mean and standard deviation and plot result.\n",
    "def my_prob_dens(x):\n",
    "# your code here\n",
    "\n",
    "num_p = 1000\n",
    "x_int = np.linspace(0.07, 0.13, num_p)\n",
    "prob_func = np.zeros((num_p,))\n",
    "\n",
    "# your code here\n",
    "\n",
    "font = {'family': 'serif',\n",
    "        'color':  'darkred',\n",
    "        'weight': 'normal',\n",
    "        'size': 16,\n",
    "        }\n",
    "\n",
    "plt.plot(x_int, prob_func, 'r')\n",
    "\n",
    "# your code here\n"
   ]
  },
  {
   "cell_type": "markdown",
   "metadata": {},
   "source": [
    "---"
   ]
  },
  {
   "cell_type": "markdown",
   "metadata": {},
   "source": [
    "## Question 3: Nonlinear Equations\n",
    "Solve the following nonlinear equation using the Bisection Method:\n",
    "$ f(x) = x^{1/3} + \\sqrt{e^x} sin(x) = 0 $ with as interval boundaries $a = 1$ en $b = 5.5$ .\n",
    "Pseudo-code Bisection Method:\n",
    "* 1) Check if function f(x) has a root on the interval (i.e., f(a) * f(b) < 0), assuming f(x) continuous and monotonous on [a, b]\n",
    "* 2) set c = (a + b)/2\n",
    "* 3) if f(a)\\*f(c) <= 0 then b = c else a = c\n",
    "* 4) c = (a + b)/2\n",
    "* 5) if |f(c)| < conv_limit then exit else go back to 3) "
   ]
  },
  {
   "cell_type": "markdown",
   "metadata": {},
   "source": [
    "## Answer Q3: "
   ]
  },
  {
   "cell_type": "code",
   "execution_count": null,
   "metadata": {},
   "outputs": [],
   "source": [
    "# Python code block for Bisection method\n",
    "# Solve f(x) = x^(1/3) + sqrt(e^x) * sin(x) = 0, with bounds a = 1, b = 5.5\n",
    "import numpy as np\n",
    "\n",
    "\n",
    "a = ???\n",
    "b = ???\n",
    "def my_non_linear_func(x):\n",
    "### your code here ###\n",
    "\n",
    "\n",
    "# Set convergence criteria and initialize loop\n",
    "conv_limit = 1e-12\n",
    "max_iter = 100\n",
    "curr_iter = 0\n",
    "\n",
    "### your code here ###    \n",
    "xk = c  # note: c is, after curr_iter number of iterations, your solution for which |f(c)| < conv_limit is true\n",
    "\n",
    "print(\"Solution to nonlinear equation is: \", xk, \", after \", curr_iter, \" iterations with Newtons Method\")"
   ]
  },
  {
   "cell_type": "markdown",
   "metadata": {},
   "source": [
    "## Question 4: Linear Algebra\n",
    "Regression: Find the coefficients of a function that fits the data as close as possible. In this question we want to find the coefficients A and B of the equation:\n",
    "$$ y(x) = A + B e^{x} $$ \n",
    "\n",
    "such that the difference between the data and the function is minimized."
   ]
  },
  {
   "cell_type": "markdown",
   "metadata": {},
   "source": [
    "## Answer Q4:"
   ]
  },
  {
   "cell_type": "code",
   "execution_count": null,
   "metadata": {
    "scrolled": false
   },
   "outputs": [],
   "source": [
    "# Generate some data here:\n",
    "import numpy as np\n",
    "import matplotlib.pyplot as plt\n",
    "\n",
    "np.random.seed(0)\n",
    "sigma = 0.1\n",
    "mu = 0.3\n",
    "num_points = 100\n",
    "\n",
    "data_loc = np.random.normal(mu, sigma, num_points)\n",
    "data_rec = 100 + 1.25 * np.e ** (10 * data_loc) + 2.5 * np.random.normal(0, 1, num_points)\n",
    "\n",
    "# Plot data:\n",
    "plt.figure(num=None, figsize=(15, 5), dpi=80, facecolor='w', edgecolor='k')\n",
    "\n",
    "font = {'family': 'serif',\n",
    "        'color':  'darkred',\n",
    "        'weight': 'normal',\n",
    "        'size': 16,\n",
    "        }\n",
    "\n",
    "plt.plot(data_loc, data_rec, 'or')\n",
    "plt.title('Linear Regression', fontdict=font)\n",
    "plt.xlabel('x', fontdict=font)\n",
    "plt.ylabel('data', fontdict=font)\n",
    "plt.show()\n",
    "\n",
    "# Calculate regression coefficients:\n",
    "### your code here ###\n",
    "solution = ??? \n",
    "\n",
    "print('Regressed coefficients after our LST solution: ', solution)"
   ]
  },
  {
   "cell_type": "markdown",
   "metadata": {},
   "source": [
    "### END OF TEST!!!"
   ]
  },
  {
   "cell_type": "markdown",
   "metadata": {},
   "source": [
    "---"
   ]
  }
 ],
 "metadata": {
  "kernelspec": {
   "display_name": "Python 3",
   "language": "python",
   "name": "python3"
  },
  "language_info": {
   "codemirror_mode": {
    "name": "ipython",
    "version": 3
   },
   "file_extension": ".py",
   "mimetype": "text/x-python",
   "name": "python",
   "nbconvert_exporter": "python",
   "pygments_lexer": "ipython3",
   "version": "3.6.5"
  }
 },
 "nbformat": 4,
 "nbformat_minor": 2
}
